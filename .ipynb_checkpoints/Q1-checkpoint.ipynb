{
 "cells": [
  {
   "cell_type": "code",
   "execution_count": 63,
   "id": "8e1eb557",
   "metadata": {},
   "outputs": [
    {
     "name": "stderr",
     "output_type": "stream",
     "text": [
      "[nltk_data] Downloading package stopwords to\n",
      "[nltk_data]     C:\\Users\\aryan\\AppData\\Roaming\\nltk_data...\n",
      "[nltk_data]   Package stopwords is already up-to-date!\n",
      "[nltk_data] Downloading package punkt to\n",
      "[nltk_data]     C:\\Users\\aryan\\AppData\\Roaming\\nltk_data...\n",
      "[nltk_data]   Package punkt is already up-to-date!\n"
     ]
    }
   ],
   "source": [
    "import nltk\n",
    "import re\n",
    "import numpy as np\n",
    "import pandas as pd\n",
    "import matplotlib.pyplot as plt\n",
    "from nltk.tokenize import word_tokenize\n",
    "nltk.download('stopwords')\n",
    "nltk.download('punkt')\n",
    "from nltk.corpus import stopwords\n",
    "import os"
   ]
  },
  {
   "cell_type": "code",
   "execution_count": 33,
   "id": "8a7b0873",
   "metadata": {},
   "outputs": [
    {
     "name": "stdout",
     "output_type": "stream",
     "text": [
      "File not read: hilbilly.wri\n",
      "File not read: howlong.hum\n",
      "File not read: oxymoron.txt\n",
      "File not read: steroid.txt\n",
      "File not read: various.txt\n"
     ]
    }
   ],
   "source": [
    "docs = []\n",
    "docnames = []\n",
    "\n",
    "for filename in os.listdir('data'):\n",
    "    try:\n",
    "        lines = []\n",
    "        file = open('data/'+filename, 'r')\n",
    "        for i in file:\n",
    "            lines.append(i.replace('\\n', ''))\n",
    "        docnames.append(filename)\n",
    "        docs.append(lines)\n",
    "    except:\n",
    "        print('File not read:', filename)"
   ]
  },
  {
   "cell_type": "code",
   "execution_count": 34,
   "id": "d0a90b44",
   "metadata": {},
   "outputs": [
    {
     "data": {
      "text/plain": [
       "1128"
      ]
     },
     "execution_count": 34,
     "metadata": {},
     "output_type": "execute_result"
    }
   ],
   "source": [
    "len(docnames)"
   ]
  },
  {
   "cell_type": "code",
   "execution_count": null,
   "id": "c43fd7e5",
   "metadata": {},
   "outputs": [],
   "source": []
  },
  {
   "cell_type": "markdown",
   "id": "6dfeea63",
   "metadata": {},
   "source": [
    "## A: Preprocessing"
   ]
  },
  {
   "cell_type": "code",
   "execution_count": 43,
   "id": "5a75bcfd",
   "metadata": {},
   "outputs": [],
   "source": [
    "stop_words = set(stopwords.words('english'))"
   ]
  },
  {
   "cell_type": "code",
   "execution_count": null,
   "id": "284d85b4",
   "metadata": {},
   "outputs": [],
   "source": []
  },
  {
   "cell_type": "code",
   "execution_count": 59,
   "id": "b5322b4c",
   "metadata": {},
   "outputs": [],
   "source": [
    "def preprocess(doc):\n",
    "    procd = []\n",
    "    for line in doc:\n",
    "        line = line.lower()\n",
    "        line = word_tokenize(line)\n",
    "        tokens = []\n",
    "        for word in line:\n",
    "            if(word not in stop_words and word.isalnum()):\n",
    "                tokens.append(word)\n",
    "        if(tokens):\n",
    "            procd.append(tokens)\n",
    "    return procd"
   ]
  },
  {
   "cell_type": "code",
   "execution_count": 60,
   "id": "8788495c",
   "metadata": {},
   "outputs": [],
   "source": [
    "prodocs = []\n",
    "\n",
    "for doc in docs:\n",
    "    procd = preprocess(doc)\n",
    "    prodocs.append(procd)"
   ]
  },
  {
   "cell_type": "code",
   "execution_count": null,
   "id": "bd441c21",
   "metadata": {},
   "outputs": [],
   "source": []
  },
  {
   "cell_type": "markdown",
   "id": "53d6a473",
   "metadata": {},
   "source": [
    "## B: Positional Index"
   ]
  },
  {
   "cell_type": "code",
   "execution_count": null,
   "id": "6fc7d090",
   "metadata": {},
   "outputs": [],
   "source": []
  },
  {
   "cell_type": "code",
   "execution_count": null,
   "id": "3bac7978",
   "metadata": {},
   "outputs": [],
   "source": []
  },
  {
   "cell_type": "code",
   "execution_count": null,
   "id": "a70f4220",
   "metadata": {},
   "outputs": [],
   "source": []
  },
  {
   "cell_type": "markdown",
   "id": "3602b7d6",
   "metadata": {},
   "source": [
    "## C: Phrase Queries"
   ]
  },
  {
   "cell_type": "code",
   "execution_count": null,
   "id": "ec206ba7",
   "metadata": {},
   "outputs": [],
   "source": []
  },
  {
   "cell_type": "code",
   "execution_count": null,
   "id": "c6edebb4",
   "metadata": {},
   "outputs": [],
   "source": []
  },
  {
   "cell_type": "code",
   "execution_count": null,
   "id": "2d830d60",
   "metadata": {},
   "outputs": [],
   "source": []
  },
  {
   "cell_type": "markdown",
   "id": "b0ca37eb",
   "metadata": {},
   "source": [
    "## D: Testing"
   ]
  },
  {
   "cell_type": "code",
   "execution_count": null,
   "id": "e0d83d47",
   "metadata": {},
   "outputs": [],
   "source": []
  },
  {
   "cell_type": "code",
   "execution_count": null,
   "id": "d7e3595d",
   "metadata": {},
   "outputs": [],
   "source": []
  },
  {
   "cell_type": "code",
   "execution_count": null,
   "id": "23773aad",
   "metadata": {},
   "outputs": [],
   "source": []
  }
 ],
 "metadata": {
  "kernelspec": {
   "display_name": "Python 3 (ipykernel)",
   "language": "python",
   "name": "python3"
  },
  "language_info": {
   "codemirror_mode": {
    "name": "ipython",
    "version": 3
   },
   "file_extension": ".py",
   "mimetype": "text/x-python",
   "name": "python",
   "nbconvert_exporter": "python",
   "pygments_lexer": "ipython3",
   "version": "3.9.6"
  }
 },
 "nbformat": 4,
 "nbformat_minor": 5
}
