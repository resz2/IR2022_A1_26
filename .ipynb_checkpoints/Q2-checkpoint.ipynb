{
 "cells": [
  {
   "cell_type": "code",
   "execution_count": 116,
   "id": "8e1eb557",
   "metadata": {},
   "outputs": [
    {
     "name": "stderr",
     "output_type": "stream",
     "text": [
      "[nltk_data] Downloading package stopwords to\n",
      "[nltk_data]     C:\\Users\\aryan\\AppData\\Roaming\\nltk_data...\n",
      "[nltk_data]   Package stopwords is already up-to-date!\n",
      "[nltk_data] Downloading package punkt to\n",
      "[nltk_data]     C:\\Users\\aryan\\AppData\\Roaming\\nltk_data...\n",
      "[nltk_data]   Package punkt is already up-to-date!\n"
     ]
    }
   ],
   "source": [
    "import nltk\n",
    "import re\n",
    "import numpy as np\n",
    "import pandas as pd\n",
    "import matplotlib.pyplot as plt\n",
    "from nltk.tokenize import word_tokenize\n",
    "nltk.download('stopwords')\n",
    "nltk.download('punkt')\n",
    "from nltk.corpus import stopwords\n",
    "import os\n",
    "from collections import defaultdict\n",
    "import copy\n",
    "from functools import reduce"
   ]
  },
  {
   "cell_type": "code",
   "execution_count": 2,
   "id": "8a7b0873",
   "metadata": {},
   "outputs": [
    {
     "name": "stdout",
     "output_type": "stream",
     "text": [
      "File not read: hilbilly.wri\n",
      "File not read: howlong.hum\n",
      "File not read: oxymoron.txt\n",
      "File not read: steroid.txt\n",
      "File not read: various.txt\n"
     ]
    }
   ],
   "source": [
    "docs = []\n",
    "docnames = []\n",
    "\n",
    "for filename in os.listdir('data'):\n",
    "    try:\n",
    "        lines = []\n",
    "        file = open('data/'+filename, 'r')\n",
    "        for i in file:\n",
    "            lines.append(i.replace('\\n', ''))\n",
    "        docnames.append(filename)\n",
    "        docs.append(lines)\n",
    "    except:\n",
    "        print('File not read:', filename)"
   ]
  },
  {
   "cell_type": "code",
   "execution_count": 3,
   "id": "d0a90b44",
   "metadata": {},
   "outputs": [
    {
     "data": {
      "text/plain": [
       "1128"
      ]
     },
     "execution_count": 3,
     "metadata": {},
     "output_type": "execute_result"
    }
   ],
   "source": [
    "len(docnames)"
   ]
  },
  {
   "cell_type": "code",
   "execution_count": null,
   "id": "c43fd7e5",
   "metadata": {},
   "outputs": [],
   "source": []
  },
  {
   "cell_type": "markdown",
   "id": "6dfeea63",
   "metadata": {},
   "source": [
    "## A: Preprocessing"
   ]
  },
  {
   "cell_type": "code",
   "execution_count": 4,
   "id": "5a75bcfd",
   "metadata": {},
   "outputs": [],
   "source": [
    "stop_words = set(stopwords.words('english'))"
   ]
  },
  {
   "cell_type": "code",
   "execution_count": null,
   "id": "284d85b4",
   "metadata": {},
   "outputs": [],
   "source": []
  },
  {
   "cell_type": "code",
   "execution_count": 15,
   "id": "b5322b4c",
   "metadata": {},
   "outputs": [],
   "source": [
    "def preprocess(doc):\n",
    "    procd = []\n",
    "    for line in doc:\n",
    "        line = line.lower()\n",
    "        line = word_tokenize(line)\n",
    "        tokens = []\n",
    "        for word in line:\n",
    "            if(word not in stop_words and word.isalnum()):\n",
    "                procd.append(word)\n",
    "    return procd"
   ]
  },
  {
   "cell_type": "code",
   "execution_count": 16,
   "id": "8788495c",
   "metadata": {},
   "outputs": [],
   "source": [
    "prodocs = []\n",
    "\n",
    "for doc in docs:\n",
    "    procd = preprocess(doc)\n",
    "    prodocs.append(procd)"
   ]
  },
  {
   "cell_type": "code",
   "execution_count": null,
   "id": "bd441c21",
   "metadata": {},
   "outputs": [],
   "source": []
  },
  {
   "cell_type": "markdown",
   "id": "53d6a473",
   "metadata": {},
   "source": [
    "## B: Positional Index"
   ]
  },
  {
   "cell_type": "code",
   "execution_count": 71,
   "id": "6fc7d090",
   "metadata": {},
   "outputs": [],
   "source": [
    "index = defaultdict(list)\n",
    "\n",
    "for i, doc in enumerate(prodocs):\n",
    "    for j, word in enumerate(doc):\n",
    "        if word in index:\n",
    "            index[word][0] += 1\n",
    "            if(i in index[word][1]):\n",
    "                index[word][1][i].append(j)\n",
    "            else:\n",
    "                index[word][1][i] = [j]\n",
    "        else:\n",
    "            index[word] = []\n",
    "            index[word].append(1)\n",
    "            index[word].append({})\n",
    "            index[word][1][i] = [j]"
   ]
  },
  {
   "cell_type": "code",
   "execution_count": 75,
   "id": "2327ccfc",
   "metadata": {},
   "outputs": [
    {
     "data": {
      "text/plain": [
       "[26,\n",
       " {30: [1699],\n",
       "  128: [3304],\n",
       "  200: [338],\n",
       "  240: [5],\n",
       "  252: [1964],\n",
       "  295: [599],\n",
       "  406: [205],\n",
       "  412: [96],\n",
       "  450: [1692],\n",
       "  509: [1501],\n",
       "  517: [1708],\n",
       "  669: [700],\n",
       "  720: [30, 125, 266, 271],\n",
       "  751: [3888],\n",
       "  812: [1079, 1099],\n",
       "  814: [14708, 14730],\n",
       "  847: [3442],\n",
       "  912: [5],\n",
       "  921: [612],\n",
       "  1031: [184],\n",
       "  1070: [4]}]"
      ]
     },
     "execution_count": 75,
     "metadata": {},
     "output_type": "execute_result"
    }
   ],
   "source": [
    "index['rainbow']"
   ]
  },
  {
   "cell_type": "code",
   "execution_count": null,
   "id": "b0133bf6",
   "metadata": {},
   "outputs": [],
   "source": []
  },
  {
   "cell_type": "markdown",
   "id": "3602b7d6",
   "metadata": {},
   "source": [
    "## C: Phrase Queries"
   ]
  },
  {
   "cell_type": "code",
   "execution_count": 160,
   "id": "c6edebb4",
   "metadata": {},
   "outputs": [],
   "source": [
    "def intersect1(l1, l2):\n",
    "    return list(set(l1).intersection(l2))\n",
    "\n",
    "def intersector(lists):\n",
    "    lists.sort(key=len)\n",
    "    return list(reduce(intersect1, lists))\n",
    "\n",
    "def process(query_tokens, prodocs):\n",
    "    ids = []\n",
    "    for token in query_tokens:\n",
    "        if token not in index:\n",
    "            return []\n",
    "\n",
    "    postings = [index[token] for token in query_tokens]\n",
    "    tokendocs = [p[1].keys() for p in postings]\n",
    "    # getting docs that contain all query terms\n",
    "    docalltokens = intersector(tokendocs)\n",
    "    \n",
    "    valid_docs = []\n",
    "    for docid in docalltokens:\n",
    "        positions = []\n",
    "        for p in postings:\n",
    "            positions.append(p[1][docid])\n",
    "        copied = copy.deepcopy(positions)\n",
    "        \n",
    "        # checking correct order\n",
    "        for i in range(len(copied)):\n",
    "            for j in range(len(copied[i])):\n",
    "                copied[i][j] -= i\n",
    "\n",
    "        # check intersect to see if contain phrase\n",
    "        combined = intersector(copied)\n",
    "        if(not combined):\n",
    "            continue\n",
    "        else:\n",
    "            valid_docs.append(docid)\n",
    "    return sorted(valid_docs)"
   ]
  },
  {
   "cell_type": "code",
   "execution_count": null,
   "id": "6c80db41",
   "metadata": {},
   "outputs": [],
   "source": []
  },
  {
   "cell_type": "markdown",
   "id": "b0ca37eb",
   "metadata": {},
   "source": [
    "## D: Testing"
   ]
  },
  {
   "cell_type": "code",
   "execution_count": 161,
   "id": "e0d83d47",
   "metadata": {},
   "outputs": [
    {
     "data": {
      "text/plain": [
       "['good', 'morning']"
      ]
     },
     "execution_count": 161,
     "metadata": {},
     "output_type": "execute_result"
    }
   ],
   "source": [
    "query = 'good morning'\n",
    "tokens = preprocess([query])\n",
    "tokens"
   ]
  },
  {
   "cell_type": "code",
   "execution_count": 162,
   "id": "d7e3595d",
   "metadata": {},
   "outputs": [],
   "source": [
    "doclist = process(tokens, prodocs)"
   ]
  },
  {
   "cell_type": "code",
   "execution_count": 165,
   "id": "5ac7ef4d",
   "metadata": {},
   "outputs": [
    {
     "name": "stdout",
     "output_type": "stream",
     "text": [
      "Number of documents: 14\n",
      "\n",
      "bad.jok\n",
      "coffeebeerwomen.txt\n",
      "gd_ql.txt\n",
      "homermmm.txt\n",
      "jason.fun\n",
      "math.2\n",
      "phorse.hum\n",
      "pun.txt\n",
      "teevee.hum\n",
      "televisi.hum\n",
      "televisi.txt\n",
      "top10st1.txt\n",
      "t_zone.jok\n",
      "worldend.hum\n"
     ]
    }
   ],
   "source": [
    "if(not doclist):\n",
    "    print('No document was dound to contain the given phrase')\n",
    "else:\n",
    "    print('Number of documents:', len(doclist))\n",
    "    print()\n",
    "    for id in doclist:\n",
    "        print(docnames[id])"
   ]
  },
  {
   "cell_type": "code",
   "execution_count": null,
   "id": "947b61fa",
   "metadata": {},
   "outputs": [],
   "source": []
  },
  {
   "cell_type": "code",
   "execution_count": null,
   "id": "23773aad",
   "metadata": {},
   "outputs": [],
   "source": []
  }
 ],
 "metadata": {
  "kernelspec": {
   "display_name": "Python 3 (ipykernel)",
   "language": "python",
   "name": "python3"
  },
  "language_info": {
   "codemirror_mode": {
    "name": "ipython",
    "version": 3
   },
   "file_extension": ".py",
   "mimetype": "text/x-python",
   "name": "python",
   "nbconvert_exporter": "python",
   "pygments_lexer": "ipython3",
   "version": "3.9.6"
  }
 },
 "nbformat": 4,
 "nbformat_minor": 5
}
